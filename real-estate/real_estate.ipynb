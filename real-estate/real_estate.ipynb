{
  "nbformat": 4,
  "nbformat_minor": 0,
  "metadata": {
    "colab": {
      "name": "real-estate.ipynb",
      "version": "0.3.2",
      "provenance": [],
      "collapsed_sections": []
    },
    "kernelspec": {
      "name": "python3",
      "display_name": "Python 3"
    }
  },
  "cells": [
    {
      "cell_type": "code",
      "metadata": {
        "id": "GiXjg-SMyvG5",
        "colab_type": "code",
        "colab": {}
      },
      "source": [
        "from google.colab import drive\n",
        "drive.mount('/content/gdrive')"
      ],
      "execution_count": 0,
      "outputs": []
    },
    {
      "cell_type": "code",
      "metadata": {
        "id": "gxihHqbYzXO5",
        "colab_type": "code",
        "colab": {}
      },
      "source": [
        "!ls gdrive/My\\ Drive/real-estate"
      ],
      "execution_count": 0,
      "outputs": []
    },
    {
      "cell_type": "code",
      "metadata": {
        "id": "j9xm2wSD0Z6J",
        "colab_type": "code",
        "colab": {}
      },
      "source": [
        "!cp -r gdrive/My\\ Drive/real-estate ."
      ],
      "execution_count": 0,
      "outputs": []
    },
    {
      "cell_type": "code",
      "metadata": {
        "id": "Hj1xn5AC0iZ_",
        "colab_type": "code",
        "colab": {}
      },
      "source": [
        "!ls real-estate"
      ],
      "execution_count": 0,
      "outputs": []
    },
    {
      "cell_type": "code",
      "metadata": {
        "id": "yp97RWEF0mYN",
        "colab_type": "code",
        "colab": {}
      },
      "source": [
        "import os\n",
        "import glob\n",
        "import re\n",
        "from pathlib import Path\n",
        "\n",
        "import numpy as np\n",
        "import pandas as pd"
      ],
      "execution_count": 0,
      "outputs": []
    },
    {
      "cell_type": "code",
      "metadata": {
        "id": "0xRDd3rc02PM",
        "colab_type": "code",
        "colab": {}
      },
      "source": [
        "glob.glob('real-estate/*')"
      ],
      "execution_count": 0,
      "outputs": []
    },
    {
      "cell_type": "code",
      "metadata": {
        "id": "_WiIqD061AQc",
        "colab_type": "code",
        "colab": {}
      },
      "source": [
        "filenames = glob.glob(str(Path() / 'real-estate' / '*'))\n",
        "filenames"
      ],
      "execution_count": 0,
      "outputs": []
    },
    {
      "cell_type": "code",
      "metadata": {
        "id": "8-4yDUkB1RJ1",
        "colab_type": "code",
        "colab": {}
      },
      "source": [
        "sorted(filenames)"
      ],
      "execution_count": 0,
      "outputs": []
    },
    {
      "cell_type": "code",
      "metadata": {
        "id": "nUd_f1Nt1mi-",
        "colab_type": "code",
        "colab": {}
      },
      "source": [
        "sorted_filenames = sorted(\n",
        "    filenames,\n",
        "    key=lambda s: int(s[:-5].split('_')[-1]),\n",
        ")\n",
        "sorted_filenames"
      ],
      "execution_count": 0,
      "outputs": []
    },
    {
      "cell_type": "code",
      "metadata": {
        "id": "cl6KIp3x2E69",
        "colab_type": "code",
        "colab": {}
      },
      "source": [
        "price1 = pd.read_excel(sorted_filenames[0], header=16)\n",
        "price1.head()"
      ],
      "execution_count": 0,
      "outputs": []
    },
    {
      "cell_type": "code",
      "metadata": {
        "id": "80BECLTB5GSt",
        "colab_type": "code",
        "colab": {}
      },
      "source": [
        "price1.info()"
      ],
      "execution_count": 0,
      "outputs": []
    },
    {
      "cell_type": "code",
      "metadata": {
        "id": "WFkAEVqP8Y9V",
        "colab_type": "code",
        "colab": {}
      },
      "source": [
        "price1 = pd.read_excel(\n",
        "    sorted_filenames[0],\n",
        "    header=16,\n",
        "    usecols=[\n",
        "        '시군구',\n",
        "        '주택유형',\n",
        "        '도로조건',\n",
        "        '연면적(㎡)',\n",
        "        '대지면적(㎡)',\n",
        "        '계약년월',\n",
        "        '거래금액(만원)',\n",
        "        '건축년도',\n",
        "    ],\n",
        ")\n",
        "price1.columns = [\n",
        "    'si_gun_gu',\n",
        "    'housing_type',\n",
        "    'distance_to_road',\n",
        "    'total_floor_area',\n",
        "    'plottage',\n",
        "    'date_of_contract',\n",
        "    'price',\n",
        "    'construction_year'\n",
        "]\n",
        "price1.head()"
      ],
      "execution_count": 0,
      "outputs": []
    },
    {
      "cell_type": "code",
      "metadata": {
        "id": "H6J5tOS45Gxs",
        "colab_type": "code",
        "colab": {}
      },
      "source": [
        "price1 = pd.read_excel(\n",
        "    sorted_filenames[0],\n",
        "    header=16,\n",
        "    usecols=[\n",
        "        '시군구',\n",
        "        '주택유형',\n",
        "        '도로조건',\n",
        "        '연면적(㎡)',\n",
        "        '대지면적(㎡)',\n",
        "        '계약년월',\n",
        "        '거래금액(만원)',\n",
        "        '건축년도',\n",
        "    ],\n",
        "    thousands=',',\n",
        ")\n",
        "price1.columns = [\n",
        "    'si_gun_gu',\n",
        "    'housing_type',\n",
        "    'distance_to_road',\n",
        "    'total_floor_area',\n",
        "    'plottage',\n",
        "    'date_of_contract',\n",
        "    'price',\n",
        "    'construction_year'\n",
        "]\n",
        "price1.head()\n",
        "price1['price'].dtype"
      ],
      "execution_count": 0,
      "outputs": []
    },
    {
      "cell_type": "code",
      "metadata": {
        "id": "Se2GRKQFBX83",
        "colab_type": "code",
        "colab": {}
      },
      "source": [
        "price1['construction_year'].describe()"
      ],
      "execution_count": 0,
      "outputs": []
    },
    {
      "cell_type": "code",
      "metadata": {
        "id": "7abpgxnCBjKu",
        "colab_type": "code",
        "colab": {}
      },
      "source": [
        "price1['construction_year'].nsmallest(5)"
      ],
      "execution_count": 0,
      "outputs": []
    },
    {
      "cell_type": "code",
      "metadata": {
        "id": "4vIvB4zBBtTg",
        "colab_type": "code",
        "colab": {}
      },
      "source": [
        "price1.loc[price1['construction_year'] >= 1900, 'construction_year'].plot.hist()"
      ],
      "execution_count": 0,
      "outputs": []
    },
    {
      "cell_type": "code",
      "metadata": {
        "id": "1gcEweGACLcW",
        "colab_type": "code",
        "colab": {}
      },
      "source": [
        "(\n",
        "    price1[price1['construction_year'] > 1900]\n",
        "    .dropna()\n",
        "    .astype({'construction_year': int})\n",
        ").head()"
      ],
      "execution_count": 0,
      "outputs": []
    },
    {
      "cell_type": "code",
      "metadata": {
        "id": "hLAr8Goh5G4_",
        "colab_type": "code",
        "colab": {}
      },
      "source": [
        "price1['distance_to_road'].unique()"
      ],
      "execution_count": 0,
      "outputs": []
    },
    {
      "cell_type": "code",
      "metadata": {
        "id": "SUQqkYiy5HBa",
        "colab_type": "code",
        "colab": {}
      },
      "source": [
        "price1['distance_to_road'].replace(\n",
        "    ['8m미만', '12m미만', '25m미만', '-', '25m이상'],\n",
        "    [4.0, 10.0, 18.5, np.nan, 50.0],\n",
        ").unique()"
      ],
      "execution_count": 0,
      "outputs": []
    },
    {
      "cell_type": "code",
      "metadata": {
        "id": "U4VIUtg26ygW",
        "colab_type": "code",
        "colab": {}
      },
      "source": [
        "price1['date_of_contract'].head()"
      ],
      "execution_count": 0,
      "outputs": []
    },
    {
      "cell_type": "code",
      "metadata": {
        "id": "GXltM0By5HPh",
        "colab_type": "code",
        "colab": {}
      },
      "source": [
        "pd.to_datetime(price1['date_of_contract'].astype(str), format='%Y%m').head()"
      ],
      "execution_count": 0,
      "outputs": []
    },
    {
      "cell_type": "code",
      "metadata": {
        "id": "0B_NHpHOAEeV",
        "colab_type": "code",
        "colab": {}
      },
      "source": [
        "price1['housing_type'].unique()"
      ],
      "execution_count": 0,
      "outputs": []
    },
    {
      "cell_type": "code",
      "metadata": {
        "id": "YaSC5fHMAMZP",
        "colab_type": "code",
        "colab": {}
      },
      "source": [
        "price1['housing_type'].astype('category').head()"
      ],
      "execution_count": 0,
      "outputs": []
    },
    {
      "cell_type": "code",
      "metadata": {
        "id": "t4Y-_fscASi1",
        "colab_type": "code",
        "colab": {}
      },
      "source": [
        "print(price1['housing_type'].memory_usage())\n",
        "print(price1['housing_type'].astype('category').memory_usage())"
      ],
      "execution_count": 0,
      "outputs": []
    },
    {
      "cell_type": "code",
      "metadata": {
        "id": "rR0676R_3BBP",
        "colab_type": "code",
        "colab": {}
      },
      "source": [
        "prices = []\n",
        "for filename in filenames:\n",
        "    prices.append(pd.read_excel(\n",
        "        filename,\n",
        "        header=16,\n",
        "        usecols=[\n",
        "            '시군구',\n",
        "            '주택유형',\n",
        "            '도로조건',\n",
        "            '연면적(㎡)',\n",
        "            '대지면적(㎡)',\n",
        "            '계약년월',\n",
        "            '거래금액(만원)',\n",
        "            '건축년도',\n",
        "        ],\n",
        "        thousands=',',\n",
        "        dtype={\n",
        "            '주택유형': 'category',\n",
        "        }\n",
        "    ).dropna())\n",
        "price = pd.concat(prices).reset_index(drop=True)\n",
        "\n",
        "price.columns = [\n",
        "    'si_gun_gu',\n",
        "    'housing_type',\n",
        "    'distance_to_road',\n",
        "    'total_floor_area',\n",
        "    'plottage',\n",
        "    'date_of_contract',\n",
        "    'price',\n",
        "    'construction_year'\n",
        "]\n",
        "price = price[price['construction_year'] > 1900].astype(\n",
        "    {'construction_year': int}\n",
        ")\n",
        "price['distance_to_road'] = price['distance_to_road'].replace(\n",
        "    ['8m미만', '12m미만', '25m미만', '-', '25m이상'],\n",
        "    [4.0, 10.0, 18.5, np.nan, 50.0],\n",
        ")\n",
        "price = price.dropna().reset_index(drop=True)\n",
        "price['date_of_contract'] = pd.to_datetime(\n",
        "    price['date_of_contract'].astype(str),\n",
        "    format='%Y%m'\n",
        ")"
      ],
      "execution_count": 0,
      "outputs": []
    },
    {
      "cell_type": "code",
      "metadata": {
        "id": "qfxwHKnOGHmS",
        "colab_type": "code",
        "colab": {}
      },
      "source": [
        "price.head()"
      ],
      "execution_count": 0,
      "outputs": []
    },
    {
      "cell_type": "code",
      "metadata": {
        "id": "vN6-JxK73zrz",
        "colab_type": "code",
        "colab": {}
      },
      "source": [
        "price.describe()"
      ],
      "execution_count": 0,
      "outputs": []
    },
    {
      "cell_type": "code",
      "metadata": {
        "id": "uB2AuIrOZ84y",
        "colab_type": "code",
        "colab": {}
      },
      "source": [
        "si_gun_gu = price['si_gun_gu'].str.split(expand=True)\n",
        "si_gun_gu.head()"
      ],
      "execution_count": 0,
      "outputs": []
    },
    {
      "cell_type": "code",
      "metadata": {
        "id": "UKEECmSgZ-vr",
        "colab_type": "code",
        "colab": {}
      },
      "source": [
        "si_gun_gu.notna().sum()"
      ],
      "execution_count": 0,
      "outputs": []
    },
    {
      "cell_type": "code",
      "metadata": {
        "id": "_lmm_R8DQcs0",
        "colab_type": "code",
        "colab": {}
      },
      "source": [
        "si_gun_gu = price['si_gun_gu'].str.split(n=2, expand=True)\n",
        "si_gun_gu.head()"
      ],
      "execution_count": 0,
      "outputs": []
    },
    {
      "cell_type": "code",
      "metadata": {
        "id": "3QdQ4jO5E7hL",
        "colab_type": "code",
        "colab": {}
      },
      "source": [
        "price.info()"
      ],
      "execution_count": 0,
      "outputs": []
    },
    {
      "cell_type": "code",
      "metadata": {
        "id": "U7pg7e-EQeP-",
        "colab_type": "code",
        "colab": {}
      },
      "source": [
        "si_gun_gu.index[si_gun_gu[2].isna()]"
      ],
      "execution_count": 0,
      "outputs": []
    },
    {
      "cell_type": "code",
      "metadata": {
        "id": "oC0a6hzYf1o1",
        "colab_type": "code",
        "colab": {}
      },
      "source": [
        "si_gun_gu.isna().sum()"
      ],
      "execution_count": 0,
      "outputs": []
    },
    {
      "cell_type": "code",
      "metadata": {
        "id": "ydJKfWrxQeNZ",
        "colab_type": "code",
        "colab": {}
      },
      "source": [
        "price.loc[60005]"
      ],
      "execution_count": 0,
      "outputs": []
    },
    {
      "cell_type": "code",
      "metadata": {
        "id": "2PMhB-iHQeFS",
        "colab_type": "code",
        "colab": {}
      },
      "source": [
        "si_gun_gu = si_gun_gu.fillna('')\n",
        "si_gun_gu.columns = ['sido', 'sigungu', 'dongli']\n",
        "si_gun_gu.head()"
      ],
      "execution_count": 0,
      "outputs": []
    },
    {
      "cell_type": "code",
      "metadata": {
        "id": "Ne3MGcgnQd9l",
        "colab_type": "code",
        "colab": {}
      },
      "source": [
        "price = pd.concat([price, si_gun_gu], axis=1).drop(columns='si_gun_gu')\n",
        "price.head()"
      ],
      "execution_count": 0,
      "outputs": []
    },
    {
      "cell_type": "markdown",
      "metadata": {
        "id": "0xL17PyeHJtv",
        "colab_type": "text"
      },
      "source": [
        "# Visualization"
      ]
    },
    {
      "cell_type": "code",
      "metadata": {
        "id": "FNv4uIW_Ivyb",
        "colab_type": "code",
        "colab": {}
      },
      "source": [
        "!apt-get update -qq\n",
        "!apt-get install fonts-nanum* -qq"
      ],
      "execution_count": 0,
      "outputs": []
    },
    {
      "cell_type": "code",
      "metadata": {
        "id": "D3iNCuyhIV26",
        "colab_type": "code",
        "colab": {}
      },
      "source": [
        "import matplotlib as mpl\n",
        "import matplotlib.font_manager as fm\n",
        "import matplotlib.pyplot as plt\n",
        "%matplotlib inline\n",
        "%config InlineBackend.figure_format = 'retina'\n",
        "pd.plotting.register_matplotlib_converters()\n",
        "\n",
        "fm._rebuild()\n",
        "mpl.rc('font', family='NanumGothic')"
      ],
      "execution_count": 0,
      "outputs": []
    },
    {
      "cell_type": "code",
      "metadata": {
        "id": "ttcUJXmQHlgt",
        "colab_type": "code",
        "colab": {}
      },
      "source": [
        "price['housing_type'].value_counts()"
      ],
      "execution_count": 0,
      "outputs": []
    },
    {
      "cell_type": "code",
      "metadata": {
        "id": "fhOZxr2QHinq",
        "colab_type": "code",
        "colab": {}
      },
      "source": [
        "fig, axes = plt.subplots(1, 2)\n",
        "price['housing_type'].value_counts().plot.pie(\n",
        "    autopct='%.2f %%',\n",
        "    ax=axes[0]\n",
        ")\n",
        "price['housing_type'].value_counts().plot.bar(ax=axes[1])\n",
        "fig.tight_layout()"
      ],
      "execution_count": 0,
      "outputs": []
    },
    {
      "cell_type": "code",
      "metadata": {
        "id": "TcDvDEUjLOji",
        "colab_type": "code",
        "colab": {}
      },
      "source": [
        "fig, ax = plt.subplots()\n",
        "price['price'].plot.hist(ax=ax)\n",
        "# price.plot.hist(y='price', ax=ax)\n",
        "ax.set(\n",
        "    xlabel='거래 금액(만 원)',\n",
        "    ylabel='거래 건수',\n",
        ")"
      ],
      "execution_count": 0,
      "outputs": []
    },
    {
      "cell_type": "code",
      "metadata": {
        "id": "TgvA-2kXMZ-v",
        "colab_type": "code",
        "colab": {}
      },
      "source": [
        "price['price'].nlargest(10)"
      ],
      "execution_count": 0,
      "outputs": []
    },
    {
      "cell_type": "code",
      "metadata": {
        "id": "Dl8v-fytMji1",
        "colab_type": "code",
        "colab": {}
      },
      "source": [
        "price[price['price'] > 100_0000]"
      ],
      "execution_count": 0,
      "outputs": []
    },
    {
      "cell_type": "code",
      "metadata": {
        "id": "yqaAcwHcLsrq",
        "colab_type": "code",
        "colab": {}
      },
      "source": [
        "fig, ax = plt.subplots()\n",
        "price[price['price'] < 25_0000].plot.hist(y='price', ax=ax)\n",
        "ax.set(\n",
        "    xlabel='거래 금액(만 원)',\n",
        "    ylabel='거래 건수',\n",
        ")"
      ],
      "execution_count": 0,
      "outputs": []
    },
    {
      "cell_type": "code",
      "metadata": {
        "id": "ogHcthebMKx3",
        "colab_type": "code",
        "colab": {}
      },
      "source": [
        "fig, ax = plt.subplots()\n",
        "price[price['price'] > 250_000].plot.hist(y='price', ax=ax)\n",
        "ax.set(\n",
        "    xlabel='거래 금액(만 원)',\n",
        "    ylabel='거래 건수',\n",
        ")"
      ],
      "execution_count": 0,
      "outputs": []
    },
    {
      "cell_type": "code",
      "metadata": {
        "id": "dCgt0t3CNGY0",
        "colab_type": "code",
        "colab": {}
      },
      "source": [
        "price_lower = price[price['price'] < 25_0000]"
      ],
      "execution_count": 0,
      "outputs": []
    },
    {
      "cell_type": "code",
      "metadata": {
        "id": "cLG--zVTNhtR",
        "colab_type": "code",
        "colab": {}
      },
      "source": [
        "fig, ax = plt.subplots()\n",
        "\n",
        "price_lower['date_of_contract'].dt.month.value_counts()\n",
        "\n",
        "(\n",
        "    price_lower['date_of_contract']\n",
        "    .dt.month\n",
        "    .value_counts()\n",
        "    .sort_index()\n",
        "    .plot.bar()\n",
        ")"
      ],
      "execution_count": 0,
      "outputs": []
    },
    {
      "cell_type": "code",
      "metadata": {
        "id": "d-tdWXH_PDDo",
        "colab_type": "code",
        "colab": {}
      },
      "source": [
        "pd.plotting.scatter_matrix(\n",
        "    price_lower[['price', 'construction_year', 'total_floor_area', 'plottage']],\n",
        "    figsize=(10, 10),\n",
        ")"
      ],
      "execution_count": 0,
      "outputs": []
    },
    {
      "cell_type": "code",
      "metadata": {
        "id": "JfgD9OObQCZ6",
        "colab_type": "code",
        "colab": {}
      },
      "source": [
        ""
      ],
      "execution_count": 0,
      "outputs": []
    }
  ]
}