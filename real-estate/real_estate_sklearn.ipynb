{
  "nbformat": 4,
  "nbformat_minor": 0,
  "metadata": {
    "colab": {
      "name": "real-estate-sklearn.ipynb",
      "version": "0.3.2",
      "provenance": [],
      "collapsed_sections": []
    },
    "kernelspec": {
      "name": "python3",
      "display_name": "Python 3"
    }
  },
  "cells": [
    {
      "cell_type": "code",
      "metadata": {
        "id": "GiXjg-SMyvG5",
        "colab_type": "code",
        "colab": {}
      },
      "source": [
        "from google.colab import drive\n",
        "drive.mount('/content/drive')"
      ],
      "execution_count": 0,
      "outputs": []
    },
    {
      "cell_type": "code",
      "metadata": {
        "id": "Hj1xn5AC0iZ_",
        "colab_type": "code",
        "colab": {}
      },
      "source": [
        "!cp -r drive/My\\ Drive/real-estate .\n",
        "!ls real-estate"
      ],
      "execution_count": 0,
      "outputs": []
    },
    {
      "cell_type": "code",
      "metadata": {
        "id": "yp97RWEF0mYN",
        "colab_type": "code",
        "colab": {}
      },
      "source": [
        "import os\n",
        "import glob\n",
        "import re\n",
        "from pathlib import Path\n",
        "\n",
        "import numpy as np\n",
        "import pandas as pd\n",
        "\n",
        "import matplotlib as mpl\n",
        "import matplotlib.font_manager as fm\n",
        "import matplotlib.pyplot as plt\n",
        "%matplotlib inline\n",
        "%config InlineBackend.figure_format = 'retina'\n",
        "pd.plotting.register_matplotlib_converters()"
      ],
      "execution_count": 0,
      "outputs": []
    },
    {
      "cell_type": "code",
      "metadata": {
        "id": "rR0676R_3BBP",
        "colab_type": "code",
        "colab": {}
      },
      "source": [
        "filenames = glob.glob(str(Path() / 'real-estate' / '*'))\n",
        "\n",
        "prices = []\n",
        "for filename in filenames:\n",
        "    prices.append(pd.read_excel(\n",
        "        filename,\n",
        "        header=16,\n",
        "        usecols=[\n",
        "            '시군구',\n",
        "            '주택유형',\n",
        "            '도로조건',\n",
        "            '연면적(㎡)',\n",
        "            '대지면적(㎡)',\n",
        "            '계약년월',\n",
        "            '거래금액(만원)',\n",
        "            '건축년도',\n",
        "        ],\n",
        "        thousands=',',\n",
        "        dtype={\n",
        "            '주택유형': 'category',\n",
        "        }\n",
        "    ).dropna())\n",
        "price = pd.concat(prices).reset_index(drop=True)\n",
        "\n",
        "price.columns = [\n",
        "    'si_gun_gu',\n",
        "    'housing_type',\n",
        "    'distance_to_road',\n",
        "    'total_floor_area',\n",
        "    'plottage',\n",
        "    'date_of_contract',\n",
        "    'price',\n",
        "    'construction_year'\n",
        "]\n",
        "price = price[price['construction_year'] > 1900].astype(\n",
        "    {'construction_year': int}\n",
        ")\n",
        "price['distance_to_road'] = price['distance_to_road'].replace(\n",
        "    ['8m미만', '12m미만', '25m미만', '-', '25m이상'],\n",
        "    [4.0, 10.0, 18.5, np.nan, 50.0],\n",
        ")\n",
        "price = price.dropna().reset_index(drop=True)\n",
        "price['date_of_contract'] = pd.to_datetime(\n",
        "    price['date_of_contract'].astype(str),\n",
        "    format='%Y%m'\n",
        ")\n",
        "\n",
        "si_gun_gu = price['si_gun_gu'].str.split(n=2, expand=True).fillna('')\n",
        "si_gun_gu.columns = ['sido', 'sigungu', 'dongli']\n",
        "\n",
        "price = pd.concat([price, si_gun_gu], axis=1).drop(columns='si_gun_gu')"
      ],
      "execution_count": 0,
      "outputs": []
    },
    {
      "cell_type": "code",
      "metadata": {
        "id": "K3Thc0nDtW3e",
        "colab_type": "code",
        "colab": {}
      },
      "source": [
        "index = (\n",
        "    (price['sido'] == '서울특별시')\n",
        "    & (price['price'] < 100000)\n",
        "    & (price['plottage'] < 1000)\n",
        "    & (price['total_floor_area'] < 250)\n",
        ")\n",
        "print('Number of samples:', index.sum())\n",
        "features = ['total_floor_area', 'plottage', 'construction_year']\n",
        "data = price.loc[index, features]\n",
        "target = price.loc[index, 'price']"
      ],
      "execution_count": 0,
      "outputs": []
    },
    {
      "cell_type": "markdown",
      "metadata": {
        "id": "yESjIa_Mt-RS",
        "colab_type": "text"
      },
      "source": [
        "# Scikit learn"
      ]
    },
    {
      "cell_type": "code",
      "metadata": {
        "id": "VZe_bZ9TGsQG",
        "colab_type": "code",
        "colab": {}
      },
      "source": [
        "from sklearn.model_selection import train_test_split\n",
        "\n",
        "X_train, X_test, y_train, y_test = train_test_split(\n",
        "    data, target, test_size=0.2, random_state=42,\n",
        ")\n",
        "print('Number of training set:', len(y_train))\n",
        "print('Number of test set:', len(y_test))"
      ],
      "execution_count": 0,
      "outputs": []
    },
    {
      "cell_type": "code",
      "metadata": {
        "id": "nQ9LVnqU_7X9",
        "colab_type": "code",
        "colab": {}
      },
      "source": [
        "X_train.head()"
      ],
      "execution_count": 0,
      "outputs": []
    },
    {
      "cell_type": "code",
      "metadata": {
        "id": "aGBZS9B4__X3",
        "colab_type": "code",
        "colab": {}
      },
      "source": [
        "y_train.head()"
      ],
      "execution_count": 0,
      "outputs": []
    },
    {
      "cell_type": "code",
      "metadata": {
        "id": "hz4Q20U645ur",
        "colab_type": "code",
        "colab": {}
      },
      "source": [
        "from sklearn.metrics import mean_squared_error\n",
        "\n",
        "def rooted_mean_squared_error(y_true, y_pred):\n",
        "    return np.sqrt(mean_squared_error(y_true, y_pred))\n",
        "\n",
        "def prediction_plot(y_true, y_pred):\n",
        "    print(f'RMSE: {rooted_mean_squared_error(y_true, y_pred):.3f}')\n",
        "    fig, ax = plt.subplots(figsize=plt.figaspect(1))\n",
        "    ax.plot(y_true, y_pred, '.', alpha=0.2)\n",
        "    \n",
        "    xlim = ax.get_xlim()\n",
        "    ylim = ax.get_ylim()\n",
        "    xymin = min([xlim[0], ylim[0]])\n",
        "    xymax = max([xlim[1], ylim[1]])\n",
        "    \n",
        "    ax.plot([xymin, xymax], [xymin, xymax])\n",
        "    \n",
        "    ax.set(\n",
        "        xlim=[xymin, xymax],\n",
        "        ylim=[xymin, xymax],\n",
        "        xlabel='Given',\n",
        "        ylabel='Predicted',\n",
        "    )"
      ],
      "execution_count": 0,
      "outputs": []
    },
    {
      "cell_type": "code",
      "metadata": {
        "colab_type": "code",
        "id": "rmCNCv-47cQ6",
        "colab": {}
      },
      "source": [
        "from sklearn.linear_model import LinearRegression\n",
        "\n",
        "model = LinearRegression()\n",
        "\n",
        "# ==========\n",
        "\n",
        "model.fit(X_train, y_train)\n",
        "predicted = model.predict(X_test)\n",
        "\n",
        "prediction_plot(y_test, predicted)"
      ],
      "execution_count": 0,
      "outputs": []
    },
    {
      "cell_type": "code",
      "metadata": {
        "id": "SRhdO1wLtyhZ",
        "colab_type": "code",
        "colab": {}
      },
      "source": [
        "from sklearn.svm import LinearSVR\n",
        "\n",
        "model = LinearSVR(max_iter=100_000)\n",
        "\n",
        "# ==========\n",
        "\n",
        "model.fit(X_train, y_train)\n",
        "predicted = model.predict(X_test)\n",
        "\n",
        "prediction_plot(y_test, predicted)"
      ],
      "execution_count": 0,
      "outputs": []
    },
    {
      "cell_type": "code",
      "metadata": {
        "id": "9JFAafcG882t",
        "colab_type": "code",
        "colab": {}
      },
      "source": [
        "from sklearn.neighbors import KNeighborsRegressor\n",
        "\n",
        "model = KNeighborsRegressor()\n",
        "\n",
        "# ==========\n",
        "\n",
        "model.fit(X_train, y_train)\n",
        "predicted = model.predict(X_test)\n",
        "\n",
        "prediction_plot(y_test, predicted)"
      ],
      "execution_count": 0,
      "outputs": []
    },
    {
      "cell_type": "code",
      "metadata": {
        "id": "GoQG1guj-F0F",
        "colab_type": "code",
        "colab": {}
      },
      "source": [
        "from sklearn.pipeline import Pipeline\n",
        "from sklearn.neighbors import KNeighborsRegressor\n",
        "\n",
        "model = Pipeline([\n",
        "    ('regressor', KNeighborsRegressor()),\n",
        "])\n",
        "\n",
        "# ==========\n",
        "\n",
        "model.fit(X_train, y_train)\n",
        "predicted = model.predict(X_test)\n",
        "\n",
        "prediction_plot(y_test, predicted)"
      ],
      "execution_count": 0,
      "outputs": []
    },
    {
      "cell_type": "code",
      "metadata": {
        "id": "GIlAwdaJ-e50",
        "colab_type": "code",
        "colab": {}
      },
      "source": [
        "from sklearn.pipeline import Pipeline\n",
        "from sklearn.preprocessing import StandardScaler\n",
        "from sklearn.neighbors import KNeighborsRegressor\n",
        "\n",
        "model = Pipeline([\n",
        "    ('scaler', StandardScaler()),\n",
        "    ('regressor', KNeighborsRegressor()),\n",
        "])\n",
        "\n",
        "# ==========\n",
        "\n",
        "model.fit(X_train, y_train)\n",
        "predicted = model.predict(X_test)\n",
        "\n",
        "prediction_plot(y_test, predicted)"
      ],
      "execution_count": 0,
      "outputs": []
    },
    {
      "cell_type": "code",
      "metadata": {
        "id": "JIL5E9iQ-GHD",
        "colab_type": "code",
        "colab": {}
      },
      "source": [
        "from sklearn.pipeline import Pipeline\n",
        "from sklearn.feature_selection import SelectKBest, f_regression\n",
        "from sklearn.preprocessing import StandardScaler\n",
        "from sklearn.neighbors import KNeighborsRegressor\n",
        "\n",
        "model = Pipeline([\n",
        "    ('selector', SelectKBest(f_regression, k=2)),\n",
        "    ('scaler', StandardScaler()),\n",
        "    ('regressor', KNeighborsRegressor()),\n",
        "])\n",
        "\n",
        "# ==========\n",
        "\n",
        "model.fit(X_train, y_train)\n",
        "predicted = model.predict(X_test)\n",
        "\n",
        "prediction_plot(y_test, predicted)"
      ],
      "execution_count": 0,
      "outputs": []
    },
    {
      "cell_type": "code",
      "metadata": {
        "id": "IFFGtvHdAkIC",
        "colab_type": "code",
        "colab": {}
      },
      "source": [
        "print(model['selector'].scores_)\n",
        "print(model['selector'].get_support())"
      ],
      "execution_count": 0,
      "outputs": []
    },
    {
      "cell_type": "code",
      "metadata": {
        "id": "Ohh3jGG--GPj",
        "colab_type": "code",
        "colab": {}
      },
      "source": [
        "from sklearn.pipeline import Pipeline\n",
        "from sklearn.model_selection import GridSearchCV, KFold\n",
        "from sklearn.metrics import make_scorer\n",
        "from sklearn.feature_selection import SelectKBest, f_regression\n",
        "from sklearn.preprocessing import StandardScaler\n",
        "from sklearn.neighbors import KNeighborsRegressor\n",
        "\n",
        "pipe = Pipeline([\n",
        "    ('selector', SelectKBest(f_regression, k=2)),\n",
        "    ('scaler', StandardScaler()),\n",
        "    ('regressor', KNeighborsRegressor()),\n",
        "])\n",
        "\n",
        "param_grid = {\n",
        "    'scaler__with_mean': [True, False],\n",
        "    'scaler__with_std': [True, False],\n",
        "    'regressor__n_neighbors': [3, 5, 10],\n",
        "}\n",
        "\n",
        "model = GridSearchCV(\n",
        "    pipe,\n",
        "    param_grid,\n",
        "    scoring=make_scorer(rooted_mean_squared_error, greater_is_better=False),\n",
        "    cv=KFold(5),\n",
        "    n_jobs=-1,\n",
        ")\n",
        "\n",
        "# ==========\n",
        "\n",
        "model.fit(X_train, y_train)\n",
        "predicted = model.predict(X_test)\n",
        "\n",
        "prediction_plot(y_test, predicted)"
      ],
      "execution_count": 0,
      "outputs": []
    },
    {
      "cell_type": "code",
      "metadata": {
        "id": "yNMPZpoEDpTd",
        "colab_type": "code",
        "colab": {}
      },
      "source": [
        "model.best_params_"
      ],
      "execution_count": 0,
      "outputs": []
    },
    {
      "cell_type": "code",
      "metadata": {
        "id": "9BJGfazL-GXV",
        "colab_type": "code",
        "colab": {}
      },
      "source": [
        "pd.DataFrame(model.cv_results_)"
      ],
      "execution_count": 0,
      "outputs": []
    }
  ]
}